{
 "cells": [
  {
   "cell_type": "code",
   "execution_count": 29,
   "id": "89b09799-9895-4239-bbaf-7b4dba9feb6a",
   "metadata": {},
   "outputs": [],
   "source": [
    "from PIL import Image\n",
    "import os, sys\n",
    "import cv2\n",
    "import numpy as np\n",
    "import matplotlib.pyplot as plt"
   ]
  },
  {
   "cell_type": "code",
   "execution_count": 20,
   "id": "cb77cf86-531b-4535-b60f-dc735c877171",
   "metadata": {},
   "outputs": [
    {
     "name": "stdout",
     "output_type": "stream",
     "text": [
      "Wall time: 1min 57s\n"
     ]
    }
   ],
   "source": [
    "%%time\n",
    "\n",
    "path = './opt/img/'\n",
    "X=[]\n",
    "\n",
    "for img_name in os.listdir(path):\n",
    "    img = cv2.imread(path+'/'+img_name)\n",
    "    scalled_raw_img = cv2.resize(img, (256, 256))/255.0\n",
    "    X.append(scalled_raw_img)\n",
    "       "
   ]
  },
  {
   "cell_type": "code",
   "execution_count": 25,
   "id": "610fb290-1434-4d2b-95fc-68b83fd95e62",
   "metadata": {},
   "outputs": [
    {
     "name": "stdout",
     "output_type": "stream",
     "text": [
      "Wall time: 620 ms\n"
     ]
    }
   ],
   "source": [
    "%%time\n",
    "\n",
    "imgset=np.array(X, dtype='uint8' )\n",
    "np.save(\"./opt/imgs.npy\",imgset)"
   ]
  }
 ],
 "metadata": {
  "kernelspec": {
   "display_name": "Python 3 (ipykernel)",
   "language": "python",
   "name": "python3"
  },
  "language_info": {
   "codemirror_mode": {
    "name": "ipython",
    "version": 3
   },
   "file_extension": ".py",
   "mimetype": "text/x-python",
   "name": "python",
   "nbconvert_exporter": "python",
   "pygments_lexer": "ipython3",
   "version": "3.9.7"
  }
 },
 "nbformat": 4,
 "nbformat_minor": 5
}
